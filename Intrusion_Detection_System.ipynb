{
  "nbformat": 4,
  "nbformat_minor": 0,
  "metadata": {
    "colab": {
      "provenance": []
    },
    "kernelspec": {
      "name": "python3",
      "display_name": "Python 3"
    },
    "language_info": {
      "name": "python"
    }
  },
  "cells": [
    {
      "cell_type": "code",
      "source": [
        "import numpy as np\n",
        "import pandas as pd\n",
        "import matplotlib.pyplot as plt\n",
        "from sklearn.impute import SimpleImputer\n",
        "from sklearn.preprocessing import LabelEncoder\n",
        "from sklearn.model_selection import train_test_split\n",
        "from sklearn.preprocessing import StandardScaler\n",
        "from sklearn.discriminant_analysis import LinearDiscriminantAnalysis as LDA\n",
        "from sklearn.svm import SVC\n",
        "from sklearn.metrics import confusion_matrix, accuracy_score"
      ],
      "metadata": {
        "id": "EA9A8kNFAg9w"
      },
      "execution_count": 1,
      "outputs": []
    },
    {
      "cell_type": "code",
      "source": [
        "dataset = pd.read_csv('Friday-WorkingHours-Afternoon-DDos.pcap_ISCX11.csv')\n",
        "X = dataset.iloc[:, :-1].values\n",
        "y = dataset.iloc[:, -1].values\n",
        "\n",
        "imputer = SimpleImputer(missing_values=np.nan, strategy='mean')\n",
        "imputer.fit(X[:, 1:68])\n",
        "X[:, 1:68] = imputer.transform(X[:, 1:68])\n",
        "print(X)"
      ],
      "metadata": {
        "colab": {
          "base_uri": "https://localhost:8080/"
        },
        "id": "Ru2z8VTbKhwl",
        "outputId": "fae52583-faca-4dc8-ffcb-8094fef05bd0"
      },
      "execution_count": 2,
      "outputs": [
        {
          "output_type": "stream",
          "name": "stdout",
          "text": [
            "[[5.50540000e+04 1.09000000e+02 1.00000000e+00 ... 0.00000000e+00\n",
            "  0.00000000e+00 0.00000000e+00]\n",
            " [5.50550000e+04 5.20000000e+01 1.00000000e+00 ... 0.00000000e+00\n",
            "  0.00000000e+00 0.00000000e+00]\n",
            " [4.62360000e+04 3.40000000e+01 1.00000000e+00 ... 0.00000000e+00\n",
            "  0.00000000e+00 0.00000000e+00]\n",
            " ...\n",
            " [9.41800000e+03 3.00000000e+00 2.00000000e+00 ... 0.00000000e+00\n",
            "  0.00000000e+00 0.00000000e+00]\n",
            " [9.41600000e+03 3.00000000e+00 2.00000000e+00 ... 0.00000000e+00\n",
            "  0.00000000e+00 0.00000000e+00]\n",
            " [9.42000000e+03 3.00000000e+00 2.00000000e+00 ... 1.46049687e+05\n",
            "  3.23091692e+06 2.96867375e+06]]\n"
          ]
        }
      ]
    },
    {
      "cell_type": "code",
      "source": [
        "le = LabelEncoder()\n",
        "y = le.fit_transform(y)\n",
        "print(y)\n",
        "\n",
        "X_train, X_test, y_train, y_test = train_test_split(X, y, test_size=0.2, random_state=0)\n",
        "print(X_train)\n",
        "print(y_train)\n",
        "print(X_test)\n",
        "print(y_test)"
      ],
      "metadata": {
        "colab": {
          "base_uri": "https://localhost:8080/"
        },
        "id": "yA8I5XT2Kt5g",
        "outputId": "4dc54a9b-ab20-4dd3-d5bd-c2c950621d5e"
      },
      "execution_count": 3,
      "outputs": [
        {
          "output_type": "stream",
          "name": "stdout",
          "text": [
            "[0 0 0 ... 0 0 1]\n",
            "[[3.26800000e+03 1.19368587e+08 4.00000000e+01 ... 3.63938670e+06\n",
            "  1.64000000e+07 6.52974800e+06]\n",
            " [8.00000000e+01 5.96730400e+06 3.00000000e+00 ... 0.00000000e+00\n",
            "  0.00000000e+00 0.00000000e+00]\n",
            " [5.30000000e+01 1.82153000e+05 2.00000000e+00 ... 0.00000000e+00\n",
            "  0.00000000e+00 0.00000000e+00]\n",
            " ...\n",
            " [5.30000000e+01 5.84780000e+04 1.00000000e+00 ... 0.00000000e+00\n",
            "  0.00000000e+00 0.00000000e+00]\n",
            " [4.43000000e+02 5.60201500e+06 7.00000000e+00 ... 0.00000000e+00\n",
            "  5.29530300e+06 5.29530300e+06]\n",
            " [4.43000000e+02 6.12112760e+07 1.70000000e+01 ... 2.84407072e+05\n",
            "  1.02000000e+07 9.45576900e+06]]\n",
            "[0 0 0 ... 0 0 0]\n",
            "[[5.30000000e+01 1.45300000e+05 2.00000000e+00 ... 0.00000000e+00\n",
            "  0.00000000e+00 0.00000000e+00]\n",
            " [4.23920000e+04 2.38930000e+04 2.90000000e+01 ... 0.00000000e+00\n",
            "  0.00000000e+00 0.00000000e+00]\n",
            " [5.55940000e+04 2.08300000e+03 2.00000000e+00 ... 0.00000000e+00\n",
            "  0.00000000e+00 0.00000000e+00]\n",
            " ...\n",
            " [8.00000000e+01 4.60890390e+07 8.00000000e+00 ... 1.53224723e+04\n",
            "  1.00000000e+07 1.00000000e+07]\n",
            " [5.30000000e+01 1.70000000e+02 2.00000000e+00 ... 0.00000000e+00\n",
            "  0.00000000e+00 0.00000000e+00]\n",
            " [5.30000000e+01 6.07300000e+04 2.00000000e+00 ... 0.00000000e+00\n",
            "  0.00000000e+00 0.00000000e+00]]\n",
            "[0 0 0 ... 0 0 0]\n"
          ]
        }
      ]
    },
    {
      "cell_type": "code",
      "source": [
        "# Feature Scaling\n",
        "sc = StandardScaler()\n",
        "X_train = sc.fit_transform(X_train)\n",
        "X_test = sc.transform(X_test)\n",
        "print(X_train)\n",
        "print(X_test)"
      ],
      "metadata": {
        "colab": {
          "base_uri": "https://localhost:8080/"
        },
        "id": "1EhKIamWK0PB",
        "outputId": "4fc07706-ac80-4caa-e3ce-4022523b9d27"
      },
      "execution_count": 4,
      "outputs": [
        {
          "output_type": "stream",
          "name": "stdout",
          "text": [
            "[[-0.19650596  3.73862704  1.00499158 ...  1.89931026  1.09678154\n",
            "   0.30968102]\n",
            " [-0.38454949 -0.15747867 -0.13901976 ... -0.08312421 -0.27236187\n",
            "  -0.26173881]\n",
            " [-0.38614208 -0.35623797 -0.16993899 ... -0.08312421 -0.27236187\n",
            "  -0.26173881]\n",
            " ...\n",
            " [-0.38614208 -0.36048705 -0.20085821 ... -0.08312421 -0.27236187\n",
            "  -0.26173881]\n",
            " [-0.36313801 -0.17002884 -0.01534286 ... -0.08312421  0.16971308\n",
            "   0.20165444]\n",
            " [-0.36313801  1.74052767  0.29384939 ...  0.07179705  0.57917854\n",
            "   0.56573782]]\n",
            "[[-0.38614208 -0.35750413 -0.16993899 ... -0.08312421 -0.27236187\n",
            "  -0.26173881]\n",
            " [ 2.11121522 -0.36167528  0.6648801  ... -0.08312421 -0.27236187\n",
            "  -0.26173881]\n",
            " [ 2.8899325  -0.3624246  -0.16993899 ... -0.08312421 -0.27236187\n",
            "  -0.26173881]\n",
            " ...\n",
            " [-0.38454949  1.22097593  0.01557637 ... -0.07477781  0.56248167\n",
            "   0.61336361]\n",
            " [-0.38614208 -0.36249033 -0.16993899 ... -0.08312421 -0.27236187\n",
            "  -0.26173881]\n",
            " [-0.38614208 -0.36040968 -0.16993899 ... -0.08312421 -0.27236187\n",
            "  -0.26173881]]\n"
          ]
        }
      ]
    },
    {
      "cell_type": "code",
      "source": [
        "# Determining the number of components for LDA\n",
        "num_features = X_train.shape[1]\n",
        "num_classes = len(np.unique(y_train))\n",
        "n_components = min(num_features, num_classes - 1)\n",
        "\n",
        "# Applying LDA\n",
        "lda = LDA(n_components=n_components)\n",
        "X_train = lda.fit_transform(X_train, y_train)\n",
        "X_test = lda.transform(X_test)"
      ],
      "metadata": {
        "id": "AcglYdXOK6PD"
      },
      "execution_count": 5,
      "outputs": []
    },
    {
      "cell_type": "code",
      "source": [
        "classifier = SVC(kernel='linear', random_state=0)\n",
        "classifier.fit(X_train, y_train)\n",
        "\n",
        "y_pred = classifier.predict(X_test)\n",
        "\n",
        "cm = confusion_matrix(y_test, y_pred)\n",
        "print(cm)\n",
        "accuracy = accuracy_score(y_test, y_pred)\n",
        "print(f\"Accuracy: {accuracy}\")"
      ],
      "metadata": {
        "colab": {
          "base_uri": "https://localhost:8080/"
        },
        "id": "noFDKMt_K-Pd",
        "outputId": "871d1f32-8eb7-4f87-f30a-db8c2e30037c"
      },
      "execution_count": 6,
      "outputs": [
        {
          "output_type": "stream",
          "name": "stdout",
          "text": [
            "[[3609]]\n",
            "Accuracy: 1.0\n"
          ]
        }
      ]
    },
    {
      "cell_type": "code",
      "source": [
        "import seaborn as sns\n",
        "import matplotlib.pyplot as plt\n",
        "from matplotlib.colors import ListedColormap\n",
        "\n",
        "# Function to plot the confusion matrix\n",
        "def plot_confusion_matrix(cm, classes, title='Confusion matrix', cmap=plt.cm.Blues):\n",
        "    plt.figure(figsize=(8, 6))\n",
        "    sns.heatmap(cm, annot=True, fmt='d', cmap=cmap, xticklabels=classes, yticklabels=classes)\n",
        "    plt.title(title)\n",
        "    plt.ylabel('True label')\n",
        "    plt.xlabel('Predicted label')\n",
        "    plt.show()\n",
        "\n",
        "# Plotting the confusion matrix\n",
        "plot_confusion_matrix(cm, classes=le.classes_)\n",
        "\n",
        "# Function to visualize the decision boundary for 1 or 2 dimensions\n",
        "def plot_decision_regions(X, y, classifier, resolution=0.02):\n",
        "    markers = ('s', 'x', 'o', '^', 'v')\n",
        "    colors = ('red', 'blue', 'lightgreen', 'gray', 'cyan')\n",
        "    cmap = ListedColormap(colors[:len(np.unique(y))])\n",
        "\n",
        "    if X.shape[1] == 1:\n",
        "        plt.figure(figsize=(8, 6))\n",
        "        # Scatter plot for 1D LDA output\n",
        "        for idx, cl in enumerate(np.unique(y)):\n",
        "            plt.scatter(x=X[y == cl, 0], y=np.zeros((sum(y == cl), 1)),\n",
        "                        alpha=0.8, c=cmap(idx),\n",
        "                        marker=markers[idx], label=cl, edgecolor='black')\n",
        "        plt.title('1D LDA decision region')\n",
        "        plt.xlabel('LD1')\n",
        "        plt.legend(loc='upper left')\n",
        "        plt.show()\n",
        "    elif X.shape[1] == 2:\n",
        "        # Plotting the decision surface\n",
        "        x1_min, x1_max = X[:, 0].min() - 1, X[:, 0].max() + 1\n",
        "        x2_min, x2_max = X[:, 1].min() - 1, X[:, 1].max() + 1\n",
        "        xx1, xx2 = np.meshgrid(np.arange(x1_min, x1_max, resolution),\n",
        "                               np.arange(x2_min, x2_max, resolution))\n",
        "        Z = classifier.predict(np.array([xx1.ravel(), xx2.ravel()]).T)\n",
        "        Z = Z.reshape(xx1.shape)\n",
        "        plt.contourf(xx1, xx2, Z, alpha=0.3, cmap=cmap)\n",
        "        plt.xlim(xx1.min(), xx1.max())\n",
        "        plt.ylim(xx2.min(), xx2.max())\n",
        "\n",
        "        # Plotting all samples\n",
        "        for idx, cl in enumerate(np.unique(y)):\n",
        "            plt.scatter(x=X[y == cl, 0], y=X[y == cl, 1],\n",
        "                        alpha=0.8, c=cmap(idx),\n",
        "                        marker=markers[idx], label=cl, edgecolor='black')\n",
        "\n",
        "        plt.xlabel('LD1')\n",
        "        plt.ylabel('LD2')\n",
        "        plt.legend(loc='upper left')\n",
        "        plt.show()\n",
        "    else:\n",
        "        print(\"The number of dimensions is not supported for visualization.\")\n",
        "\n",
        "# Determine the number of components for visualization\n",
        "if X_train.shape[1] > 2:\n",
        "    lda_vis = LDA(n_components=2)\n",
        "    X_train_vis = lda_vis.fit_transform(X_train, y_train)\n",
        "    X_test_vis = lda_vis.transform(X_test)\n",
        "else:\n",
        "    X_train_vis = X_train\n",
        "    X_test_vis = X_test\n",
        "\n",
        "# Combine train and test data for visualization\n",
        "X_combined = np.vstack((X_train_vis, X_test_vis))\n",
        "y_combined = np.hstack((y_train, y_test))\n",
        "\n",
        "# Plot decision regions\n",
        "plot_decision_regions(X_combined, y_combined, classifier=classifier)\n"
      ],
      "metadata": {
        "colab": {
          "base_uri": "https://localhost:8080/",
          "height": 1000
        },
        "id": "2GRcLk1YEhiU",
        "outputId": "8ee8ce3f-4998-41a4-8624-58e80e483b7c"
      },
      "execution_count": null,
      "outputs": [
        {
          "output_type": "display_data",
          "data": {
            "text/plain": [
              "<Figure size 800x600 with 2 Axes>"
            ],
            "image/png": "[encoded data removed]"
          },
          "metadata": {}
        },
        {
          "output_type": "stream",
          "name": "stderr",
          "text": [
            "<ipython-input-5-3338b28995cc>:27: UserWarning: *c* argument looks like a single numeric RGB or RGBA sequence, which should be avoided as value-mapping will have precedence in case its length matches with *x* & *y*.  Please use the *color* keyword-argument or provide a 2D array with a single row if you intend to specify the same RGB or RGBA value for all points.\n",
            "  plt.scatter(x=X[y == cl, 0], y=np.zeros((sum(y == cl), 1)),\n",
            "<ipython-input-5-3338b28995cc>:27: UserWarning: You passed a edgecolor/edgecolors ('black') for an unfilled marker ('x').  Matplotlib is ignoring the edgecolor in favor of the facecolor.  This behavior may change in the future.\n",
            "  plt.scatter(x=X[y == cl, 0], y=np.zeros((sum(y == cl), 1)),\n"
          ]
        },
        {
          "output_type": "display_data",
          "data": {
            "text/plain": [
              "<Figure size 800x600 with 1 Axes>"
            ],
            "image/png": "[encoded data removed]"
          },
          "metadata": {}
        }
      ]
    }
  ]
}